{
  "nbformat": 4,
  "nbformat_minor": 0,
  "metadata": {
    "colab": {
      "name": "attack_cnn v1.ipynb",
      "version": "0.3.2",
      "provenance": [],
      "collapsed_sections": [],
      "include_colab_link": true
    },
    "kernelspec": {
      "name": "python3",
      "display_name": "Python 3"
    },
    "accelerator": "TPU"
  },
  "cells": [
    {
      "cell_type": "markdown",
      "metadata": {
        "id": "view-in-github",
        "colab_type": "text"
      },
      "source": [
        "<a href=\"https://colab.research.google.com/github/rajagopalmotivate1/NeuralDefense/blob/master/attack_cnn_v1.ipynb\" target=\"_parent\"><img src=\"https://colab.research.google.com/assets/colab-badge.svg\" alt=\"Open In Colab\"/></a>"
      ]
    },
    {
      "metadata": {
        "id": "d1IIenRzV7Gv",
        "colab_type": "text"
      },
      "cell_type": "markdown",
      "source": [
        "# Attacking a CNN\n",
        "\n",
        "In this exercise we will train a CNN to distinguish between instances of handwritten `0` and instances of handwritten `1`. We will be using `keras` to do this.  \n",
        "\n",
        "Once we have a trained classifier, we will be using `cleverhans` to create adversarial examples."
      ]
    },
    {
      "metadata": {
        "id": "nhoEjgYmWJ0E",
        "colab_type": "code",
        "outputId": "de0ebb50-a441-4d6f-baa2-e3e6cb135b3e",
        "colab": {
          "base_uri": "https://localhost:8080/",
          "height": 400
        }
      },
      "cell_type": "code",
      "source": [
        "!pip install cleverhans"
      ],
      "execution_count": 1,
      "outputs": [
        {
          "output_type": "stream",
          "text": [
            "Collecting cleverhans\n",
            "\u001b[?25l  Downloading https://files.pythonhosted.org/packages/ac/a0/f0b4386b719f343c4ed3e13cd7792a7a7a4674566ca9b2b34a09b7424220/cleverhans-3.0.1-py3-none-any.whl (198kB)\n",
            "\u001b[K    100% |████████████████████████████████| 204kB 24.7MB/s \n",
            "\u001b[?25hRequirement already satisfied: numpy in /usr/local/lib/python3.6/dist-packages (from cleverhans) (1.14.6)\n",
            "Collecting mnist~=0.2 (from cleverhans)\n",
            "  Downloading https://files.pythonhosted.org/packages/c6/c4/5db3bfe009f8d71f1d532bbadbd0ec203764bba3a469e4703a889db8e5e0/mnist-0.2.2-py2.py3-none-any.whl\n",
            "Requirement already satisfied: scipy in /usr/local/lib/python3.6/dist-packages (from cleverhans) (1.1.0)\n",
            "Requirement already satisfied: matplotlib in /usr/local/lib/python3.6/dist-packages (from cleverhans) (3.0.3)\n",
            "Collecting pycodestyle (from cleverhans)\n",
            "\u001b[?25l  Downloading https://files.pythonhosted.org/packages/0e/0c/04a353e104d2f324f8ee5f4b32012618c1c86dd79e52a433b64fceed511b/pycodestyle-2.5.0-py2.py3-none-any.whl (51kB)\n",
            "\u001b[K    100% |████████████████████████████████| 51kB 18.3MB/s \n",
            "\u001b[?25hRequirement already satisfied: nose in /usr/local/lib/python3.6/dist-packages (from cleverhans) (1.3.7)\n",
            "Requirement already satisfied: tensorflow-probability in /usr/local/lib/python3.6/dist-packages (from cleverhans) (0.6.0)\n",
            "Requirement already satisfied: pyparsing!=2.0.4,!=2.1.2,!=2.1.6,>=2.0.1 in /usr/local/lib/python3.6/dist-packages (from matplotlib->cleverhans) (2.3.1)\n",
            "Requirement already satisfied: python-dateutil>=2.1 in /usr/local/lib/python3.6/dist-packages (from matplotlib->cleverhans) (2.5.3)\n",
            "Requirement already satisfied: kiwisolver>=1.0.1 in /usr/local/lib/python3.6/dist-packages (from matplotlib->cleverhans) (1.0.1)\n",
            "Requirement already satisfied: cycler>=0.10 in /usr/local/lib/python3.6/dist-packages (from matplotlib->cleverhans) (0.10.0)\n",
            "Requirement already satisfied: six>=1.10.0 in /usr/local/lib/python3.6/dist-packages (from tensorflow-probability->cleverhans) (1.11.0)\n",
            "Requirement already satisfied: setuptools in /usr/local/lib/python3.6/dist-packages (from kiwisolver>=1.0.1->matplotlib->cleverhans) (40.8.0)\n",
            "Installing collected packages: mnist, pycodestyle, cleverhans\n",
            "Successfully installed cleverhans-3.0.1 mnist-0.2.2 pycodestyle-2.5.0\n"
          ],
          "name": "stdout"
        }
      ]
    },
    {
      "metadata": {
        "id": "iIH4d-w4V7G7",
        "colab_type": "code",
        "outputId": "e71c528a-9b03-4bbf-900c-223688ca1bb3",
        "colab": {
          "base_uri": "https://localhost:8080/",
          "height": 34
        }
      },
      "cell_type": "code",
      "source": [
        "import warnings\n",
        "import numpy as np\n",
        "import os\n",
        "with warnings.catch_warnings():\n",
        "    import keras # keras is still using some deprectade code\n",
        "from keras.layers import Conv2D, MaxPooling2D, Dropout, Flatten, Dense\n",
        "from cleverhans.utils_keras import KerasModelWrapper\n",
        "from cleverhans.attacks import BasicIterativeMethod, FastGradientMethod, CarliniWagnerL2\n",
        "%matplotlib inline \n",
        "import matplotlib.pyplot as plt\n",
        "import tensorflow as tf"
      ],
      "execution_count": 2,
      "outputs": [
        {
          "output_type": "stream",
          "text": [
            "Using TensorFlow backend.\n"
          ],
          "name": "stderr"
        }
      ]
    },
    {
      "metadata": {
        "id": "EIL2ziyzV7G_",
        "colab_type": "text"
      },
      "cell_type": "markdown",
      "source": [
        "The MNIST dataset contains data for all of the digits, but for now we are only interested in 1s and 0s. Therefore we are extracting only those from the dataset. \n",
        "\n",
        "We also need to normalize the data. This means that whatever interval was previously covered by the input values will be squashed to `[0,1]`"
      ]
    },
    {
      "metadata": {
        "id": "CMKzVNfRV7HA",
        "colab_type": "code",
        "colab": {}
      },
      "cell_type": "code",
      "source": [
        "def exract_ones_and_zeroes( data, labels ):\n",
        "    data_zeroes = data[ np.argwhere( labels == 0 ).reshape( -1 ) ][ :9900 ]\n",
        "    print( data_zeroes.shape )\n",
        "    data_ones = data[ np.argwhere( labels == 1 ).reshape( -1 ) ][ :2000 ]\n",
        "    x = np.vstack( (data_zeroes, data_ones) )\n",
        "\n",
        "    # normalize the data\n",
        "    x = x / 255.\n",
        "\n",
        "    labels_zeroes = np.zeros( data_zeroes.shape[ 0 ] )\n",
        "    labels_ones = np.ones( data_ones.shape[ 0 ] )\n",
        "    y = np.append( labels_zeroes, labels_ones )\n",
        "\n",
        "    return x, y"
      ],
      "execution_count": 0,
      "outputs": []
    },
    {
      "metadata": {
        "id": "y3nYU03lV7HD",
        "colab_type": "text"
      },
      "cell_type": "markdown",
      "source": [
        "Load the actual data and use our preprocessing function from earlier."
      ]
    },
    {
      "metadata": {
        "id": "uWwost07V7HH",
        "colab_type": "code",
        "outputId": "a3f20267-8d12-4a16-ff2f-20b69f8e08bd",
        "colab": {
          "base_uri": "https://localhost:8080/",
          "height": 86
        }
      },
      "cell_type": "code",
      "source": [
        "from keras.datasets import mnist\n",
        "\n",
        "(x_train, y_train), (x_test, y_test) = mnist.load_data()\n",
        "\n",
        "\n"
      ],
      "execution_count": 4,
      "outputs": [
        {
          "output_type": "stream",
          "text": [
            "Downloading data from https://s3.amazonaws.com/img-datasets/mnist.npz\n",
            "11493376/11490434 [==============================] - 0s 0us/step\n",
            "(5923, 28, 28)\n",
            "(980, 28, 28)\n"
          ],
          "name": "stdout"
        }
      ]
    },
    {
      "metadata": {
        "id": "APCk9NzFV7HL",
        "colab_type": "text"
      },
      "cell_type": "markdown",
      "source": [
        "Keras expects the image to have a color channel. We need to add another dimension to our image to represent\n",
        "that color channel."
      ]
    },
    {
      "metadata": {
        "id": "nwJNnnMBV7HL",
        "colab_type": "code",
        "colab": {}
      },
      "cell_type": "code",
      "source": [
        "# we need to bring the data in to a format that our cnn likes\n",
        "y_train = keras.utils.to_categorical( y_train, 2 )\n",
        "y_test = keras.utils.to_categorical( y_test, 2 )\n",
        "\n",
        "if keras.backend.image_data_format( ) == 'channels_first':\n",
        "    x_train = x_train.reshape( x_train.shape[ 0 ], 1, x_train.shape[ 1 ], x_train.shape[ 2 ] )\n",
        "    x_test = x_test.reshape( x_test.shape[ 0 ], 1, x_train.shape[ 1 ], x_train.shape[ 2 ] )\n",
        "    input_shape = (1, x_train.shape[ 1 ], x_train.shape[ 2 ])\n",
        "else:\n",
        "    x_train = x_train.reshape( x_train.shape[ 0 ], x_train.shape[ 1 ], x_train.shape[ 2 ], 1 )\n",
        "    x_test = x_test.reshape( x_test.shape[ 0 ], x_train.shape[ 1 ], x_train.shape[ 2 ], 1 )\n",
        "    input_shape = (x_train.shape[ 1 ], x_train.shape[ 2 ], 1)\n",
        "\n"
      ],
      "execution_count": 0,
      "outputs": []
    },
    {
      "metadata": {
        "id": "T_e_aMgDV7HQ",
        "colab_type": "text"
      },
      "cell_type": "markdown",
      "source": [
        "We need to make sure that `cleverhans` has access to our model graph. To do this we make sure that `keras` uses the same `tensorflow` session that `cleverhans` will be using. "
      ]
    },
    {
      "metadata": {
        "id": "flvawc_hV7HQ",
        "colab_type": "code",
        "colab": {}
      },
      "cell_type": "code",
      "source": [
        "# need to some setup so everything gets excecuted in the same tensorflow session\n",
        "session = tf.Session( )\n",
        "keras.backend.set_session( session )"
      ],
      "execution_count": 0,
      "outputs": []
    },
    {
      "metadata": {
        "id": "qh_bpEfcWpKU",
        "colab_type": "code",
        "colab": {}
      },
      "cell_type": "code",
      "source": [
        "def createNetwork1():\n",
        "  clf = keras.Sequential( )\n",
        "  clf.add( Conv2D( 32, kernel_size=(3, 3), activation='relu', input_shape=input_shape ) )\n",
        "  clf.add( Conv2D( 64, (3, 3), activation='relu' ) )\n",
        "  clf.add( MaxPooling2D( pool_size=(2, 2) ) )\n",
        "  clf.add( Dropout( 0.25 ) )\n",
        "  clf.add( Flatten( ) )\n",
        "  clf.add( Dense( 128, activation='relu' ) )\n",
        "  clf.add( Dropout( 0.5 ) )\n",
        "  clf.add( Dense( 2, activation='softmax' ) )\n",
        "  return clf"
      ],
      "execution_count": 0,
      "outputs": []
    },
    {
      "metadata": {
        "id": "6GDVqimrWxgG",
        "colab_type": "code",
        "colab": {}
      },
      "cell_type": "code",
      "source": [
        "def createNetwork2():\n",
        "  clf = keras.Sequential( )\n",
        "  clf.add( Conv2D( 32, kernel_size=(3, 3), activation='relu', input_shape=input_shape ) )\n",
        "  clf.add( Conv2D( 64, (3, 3), activation='relu' ) )\n",
        "  clf.add( MaxPooling2D( pool_size=(2, 2) ) )\n",
        "  clf.add( Conv2D( 128, (3, 3), activation='relu' ) )  \n",
        "  clf.add( Dropout( 0.25 ) )\n",
        "  clf.add( Flatten( ) )\n",
        "  clf.add( Dense( 128, activation='relu' ) )\n",
        "  clf.add( Dropout( 0.5 ) )\n",
        "  clf.add( Dense( 2, activation='softmax' ) )\n",
        "  return clf"
      ],
      "execution_count": 0,
      "outputs": []
    },
    {
      "metadata": {
        "id": "d64xNkKdV7HX",
        "colab_type": "text"
      },
      "cell_type": "markdown",
      "source": [
        "We are using a very simple CNN. For our two output classes this is probably overkill. This network can be used to distinguish between all 10 classes with very high accuracy."
      ]
    },
    {
      "metadata": {
        "id": "nGx3OmEYW3DU",
        "colab_type": "code",
        "colab": {}
      },
      "cell_type": "code",
      "source": [
        "clf = createNetwork2()"
      ],
      "execution_count": 0,
      "outputs": []
    },
    {
      "metadata": {
        "id": "GMjW64ADV7HY",
        "colab_type": "code",
        "outputId": "c4f9fc8a-d36e-401e-d98c-4f1b4a75ef4c",
        "colab": {
          "base_uri": "https://localhost:8080/",
          "height": 121
        }
      },
      "cell_type": "code",
      "source": [
        "# define the classifier\n",
        "\n",
        "\n",
        "clf.compile( loss=keras.losses.categorical_crossentropy,\n",
        "             optimizer='adam',\n",
        "             metrics=[ 'accuracy' ] )\n",
        "\n",
        "clf.fit( x_train, y_train,\n",
        "         epochs=2,\n",
        "         verbose=1 )\n",
        "#clf.summary( )\n",
        "score = clf.evaluate( x_test, y_test, verbose=0 )\n",
        "print( 'Test loss:', score[ 0 ] )\n",
        "print( 'Test accuracy:', score[ 1 ] )\n"
      ],
      "execution_count": 14,
      "outputs": [
        {
          "output_type": "stream",
          "text": [
            "Epoch 1/2\n",
            "7923/7923 [==============================] - 36s 5ms/step - loss: 0.0183 - acc: 0.9903\n",
            "Epoch 2/2\n",
            "7923/7923 [==============================] - 35s 4ms/step - loss: 0.0064 - acc: 0.9984\n",
            "Test loss: 0.0007034933704338247\n",
            "Test accuracy: 0.9995271867612293\n"
          ],
          "name": "stdout"
        }
      ]
    },
    {
      "metadata": {
        "id": "VszDZ1p6V7Hc",
        "colab_type": "text"
      },
      "cell_type": "markdown",
      "source": [
        "Let's get to the actual attack magic. First we are picking a sample that we want to perturbate. After selecting the sample, we will use the FGSM attack and the Carlini & Wagner L2 attack to perturbate it into an adversarial example."
      ]
    },
    {
      "metadata": {
        "id": "YrbyOs_3V7He",
        "colab_type": "code",
        "outputId": "2e936fab-afea-400a-b8ec-0d45730c3ae5",
        "colab": {
          "base_uri": "https://localhost:8080/",
          "height": 635
        }
      },
      "cell_type": "code",
      "source": [
        "#chose a sample to pertubate\n",
        "sample_ind = 103\n",
        "\n",
        "# picking a test sample\n",
        "sample = x_test[ sample_ind, : ]\n",
        "\n",
        "\n",
        "# plot the first instance in the traning set\n",
        "plt.imshow( sample.reshape( 28, 28 ), cmap=\"gray_r\" )\n",
        "plt.axis( 'off' )\n",
        "plt.show( )\n",
        "\n",
        "# constructing adversarial examples\n",
        "print( 'class prediction for the test samples:',\n",
        "       clf.predict( sample.reshape( (1, sample.shape[ 0 ], sample.shape[ 1 ], sample.shape[ 2 ]) ) ) )\n",
        "\n",
        "prediction1 = clf.predict( sample.reshape( (1, sample.shape[ 0 ], sample.shape[ 1 ], sample.shape[ 2 ]) ) )\n",
        "\n",
        "print ( np.round(prediction1 , 2 ) )\n",
        "\n",
        "print ( np.round(prediction1) )\n",
        "\n",
        "\n",
        "# setup the attack\n",
        "wrapper = KerasModelWrapper( clf )\n",
        "fgm = FastGradientMethod( wrapper, sess=session )\n",
        "eps = 0.3 # allowed maximum modification\n",
        "\n",
        "# excetute the attack\n",
        "with warnings.catch_warnings():\n",
        "    modified_sample = fgm.generate_np( sample.reshape( (1, sample.shape[ 0 ], sample.shape[ 1 ], sample.shape[ 2 ]) ),\n",
        "                                   **{ 'eps': eps } )\n",
        "\n",
        "print( 'class prediction for the modified test samples:',\n",
        "       clf.predict( modified_sample.reshape( (1, sample.shape[ 0 ], sample.shape[ 1 ], sample.shape[ 2 ]) ) ) )\n",
        "\n",
        "predictiononmodifiedsample = clf.predict( modified_sample.reshape( (1, sample.shape[ 0 ], sample.shape[ 1 ], sample.shape[ 2 ]) ) )\n",
        "\n",
        "\n",
        "print ( np.round(predictiononmodifiedsample , 2 ) )\n",
        "\n",
        "print ( np.round(predictiononmodifiedsample) )\n",
        "\n",
        "plt.imshow( modified_sample.reshape( 28, 28 ), cmap=\"gray_r\" )\n",
        "plt.axis( 'off' )\n",
        "plt.show( )\n"
      ],
      "execution_count": 15,
      "outputs": [
        {
          "output_type": "display_data",
          "data": {
            "image/png": "[encoded data removed]",
            "text/plain": [
              "<Figure size 432x288 with 1 Axes>"
            ]
          },
          "metadata": {
            "tags": []
          }
        },
        {
          "output_type": "stream",
          "text": [
            "[INFO 2019-03-13 04:45:50,024 cleverhans] Constructing new graph for attack FastGradientMethod\n"
          ],
          "name": "stderr"
        },
        {
          "output_type": "stream",
          "text": [
            "class prediction for the test samples: [[1.0000000e+00 3.1510532e-09]]\n",
            "[[1. 0.]]\n",
            "[[1. 0.]]\n",
            "class prediction for the modified test samples: [[0.13517022 0.8648297 ]]\n",
            "[[0.14 0.86]]\n",
            "[[0. 1.]]\n"
          ],
          "name": "stdout"
        },
        {
          "output_type": "display_data",
          "data": {
            "image/png": "[encoded data removed]",
            "text/plain": [
              "<Figure size 432x288 with 1 Axes>"
            ]
          },
          "metadata": {
            "tags": []
          }
        }
      ]
    },
    {
      "metadata": {
        "id": "hoJerGCkScH5",
        "colab_type": "code",
        "outputId": "6e29a27c-9fbd-4272-9100-3d017c077b1f",
        "colab": {
          "base_uri": "https://localhost:8080/",
          "height": 369
        }
      },
      "cell_type": "code",
      "source": [
        "\n",
        "# let's try a stronger attack\n",
        "with warnings.catch_warnings():\n",
        "    cw_l2 = CarliniWagnerL2( wrapper, sess=session )\n",
        "    modified_sample = cw_l2.generate_np( sample.reshape( (1, sample.shape[ 0 ], sample.shape[ 1 ], sample.shape[ 2 ]) ) )\n",
        "\n",
        "print( 'class prediction for the cw modified test samples:',\n",
        "       clf.predict( modified_sample.reshape( (1, sample.shape[ 0 ], sample.shape[ 1 ], sample.shape[ 2 ]) ) ) )\n",
        "plt.imshow( modified_sample.reshape( 28, 28 ), cmap=\"gray_r\" )\n",
        "plt.axis( 'off' )\n",
        "plt.show( )\n"
      ],
      "execution_count": 16,
      "outputs": [
        {
          "output_type": "stream",
          "text": [
            "[INFO 2019-03-13 04:45:50,475 cleverhans] Constructing new graph for attack CarliniWagnerL2\n",
            "/usr/local/lib/python3.6/dist-packages/numpy/core/fromnumeric.py:2957: RuntimeWarning: Mean of empty slice.\n",
            "  out=out, **kwargs)\n",
            "/usr/local/lib/python3.6/dist-packages/numpy/core/_methods.py:80: RuntimeWarning: invalid value encountered in double_scalars\n",
            "  ret = ret.dtype.type(ret / rcount)\n"
          ],
          "name": "stderr"
        },
        {
          "output_type": "stream",
          "text": [
            "class prediction for the cw modified test samples: [[0.4968387  0.50316125]]\n"
          ],
          "name": "stdout"
        },
        {
          "output_type": "display_data",
          "data": {
            "image/png": "[encoded data removed]",
            "text/plain": [
              "<Figure size 432x288 with 1 Axes>"
            ]
          },
          "metadata": {
            "tags": []
          }
        }
      ]
    },
    {
      "metadata": {
        "id": "QYst-DzRgIzj",
        "colab_type": "code",
        "colab": {}
      },
      "cell_type": "code",
      "source": [
        ""
      ],
      "execution_count": 0,
      "outputs": []
    },
    {
      "metadata": {
        "id": "VRpUX7m4gKT8",
        "colab_type": "code",
        "colab": {}
      },
      "cell_type": "code",
      "source": [
        ""
      ],
      "execution_count": 0,
      "outputs": []
    },
    {
      "metadata": {
        "id": "gfR05M5qgKXZ",
        "colab_type": "code",
        "colab": {}
      },
      "cell_type": "code",
      "source": [
        ""
      ],
      "execution_count": 0,
      "outputs": []
    },
    {
      "metadata": {
        "id": "i2BiGyA_gKcI",
        "colab_type": "code",
        "colab": {}
      },
      "cell_type": "code",
      "source": [
        ""
      ],
      "execution_count": 0,
      "outputs": []
    },
    {
      "metadata": {
        "id": "NFurtBQFgKjK",
        "colab_type": "code",
        "colab": {}
      },
      "cell_type": "code",
      "source": [
        ""
      ],
      "execution_count": 0,
      "outputs": []
    },
    {
      "metadata": {
        "id": "uXqM0hMUgKm4",
        "colab_type": "code",
        "colab": {}
      },
      "cell_type": "code",
      "source": [
        ""
      ],
      "execution_count": 0,
      "outputs": []
    },
    {
      "metadata": {
        "id": "y9wJKp0SgKpV",
        "colab_type": "code",
        "colab": {}
      },
      "cell_type": "code",
      "source": [
        ""
      ],
      "execution_count": 0,
      "outputs": []
    },
    {
      "metadata": {
        "id": "U6hVLu8HgKsH",
        "colab_type": "code",
        "colab": {}
      },
      "cell_type": "code",
      "source": [
        ""
      ],
      "execution_count": 0,
      "outputs": []
    },
    {
      "metadata": {
        "id": "LcQcZPuUgKgb",
        "colab_type": "code",
        "colab": {}
      },
      "cell_type": "code",
      "source": [
        ""
      ],
      "execution_count": 0,
      "outputs": []
    }
  ]
}